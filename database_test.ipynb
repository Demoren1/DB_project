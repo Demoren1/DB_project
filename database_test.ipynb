{
  "nbformat": 4,
  "nbformat_minor": 0,
  "metadata": {
    "colab": {
      "provenance": []
    },
    "kernelspec": {
      "name": "python3",
      "display_name": "Python 3"
    },
    "language_info": {
      "name": "python"
    }
  },
  "cells": [
    {
      "cell_type": "code",
      "execution_count": 28,
      "metadata": {
        "colab": {
          "base_uri": "https://localhost:8080/"
        },
        "id": "ykC0VCM9yO1A",
        "outputId": "7bef6ea0-9d15-4a31-8ad9-3bd6d623ccfa"
      },
      "outputs": [
        {
          "output_type": "stream",
          "name": "stdout",
          "text": [
            "Requirement already satisfied: pytest in /usr/local/lib/python3.10/dist-packages (7.4.4)\n",
            "Requirement already satisfied: iniconfig in /usr/local/lib/python3.10/dist-packages (from pytest) (2.0.0)\n",
            "Requirement already satisfied: packaging in /usr/local/lib/python3.10/dist-packages (from pytest) (24.0)\n",
            "Requirement already satisfied: pluggy<2.0,>=0.12 in /usr/local/lib/python3.10/dist-packages (from pytest) (1.4.0)\n",
            "Requirement already satisfied: exceptiongroup>=1.0.0rc8 in /usr/local/lib/python3.10/dist-packages (from pytest) (1.2.0)\n",
            "Requirement already satisfied: tomli>=1.0.0 in /usr/local/lib/python3.10/dist-packages (from pytest) (2.0.1)\n"
          ]
        }
      ],
      "source": [
        "pip install pytest"
      ]
    },
    {
      "cell_type": "code",
      "source": [
        "import sqlite3\n",
        "\n",
        "def execute_sql_script(script_file, database_file):\n",
        "    # Подключаемся к базе данных SQLite\n",
        "    conn = sqlite3.connect(database_file)\n",
        "    cursor = conn.cursor()\n",
        "\n",
        "    # Читаем SQL-скрипт из файла\n",
        "    with open(script_file, 'r') as script:\n",
        "        sql_script = script.read()\n",
        "\n",
        "    # Выполняем SQL-скрипт\n",
        "    cursor.executescript(sql_script)\n",
        "    conn.commit()\n",
        "    conn.close()\n",
        "\n",
        "# Путь к файлу SQL-скрипта\n",
        "sql_script_file = 'database.sql'\n",
        "\n",
        "# Путь к файлу базы данных SQLite\n",
        "database_file = 'database.db'\n",
        "\n",
        "# Вызываем функцию для выполнения SQL-скрипта\n",
        "execute_sql_script(sql_script_file, database_file)"
      ],
      "metadata": {
        "id": "b99I_iafGub7"
      },
      "execution_count": 52,
      "outputs": []
    },
    {
      "cell_type": "code",
      "source": [
        "import sqlite3\n",
        "def execute_sql_query(query):\n",
        "    conn = sqlite3.connect(\"database.db\")  # Название вашей тестовой базы данных\n",
        "    cursor = conn.cursor()\n",
        "    cursor.execute(query)\n",
        "    result = cursor.fetchall()\n",
        "    conn.close()\n",
        "    return result\n",
        "\n",
        "# Тест для проверки наличия таблицы в базе данных\n",
        "def test_table_existence():\n",
        "    query = \"SELECT name FROM sqlite_master WHERE type='table' AND name='Car';\"\n",
        "    result = execute_sql_query(query)\n",
        "    assert len(result) == 1, \"Table does not exist in the database\"\n",
        "\n",
        "# Тест для проверки количества строк в таблице\n",
        "def test_row_count():\n",
        "    query = \"SELECT COUNT(*) FROM Driver;\"\n",
        "    result = execute_sql_query(query)\n",
        "    assert result[0][0] == 30, \"Row count does not match expected value\"\n",
        "\n",
        "# Тест для проверки среднего значения бонусов по картам лояльности\n",
        "def test_average_bonus():\n",
        "    query = \"SELECT AVG(bonus) FROM Loyalty_card;\"\n",
        "    result = execute_sql_query(query)\n",
        "    assert result[0][0] == 795, \"Average bonus value is incorrect\"\n",
        "\n",
        "# Тест для проверки наличия всех столбцов в таблице\n",
        "def test_column_existence():\n",
        "    query = \"PRAGMA table_info('Driver');\"\n",
        "    result = execute_sql_query(query)\n",
        "    expected_columns = ['ID_driver', 'car_number', 'full_name', 'phone_number', 'basic_fee', 'email', 'start_date', 'end_date', 'version_number', 'is_current']\n",
        "    actual_columns = [row[1] for row in result]\n",
        "    assert set(actual_columns) == set(expected_columns), \"Columns do not match expected columns\"\n",
        "\n",
        "# Тест для проверки того, что все водители имеют уникальные идентификаторы\n",
        "def test_unique_driver_ids():\n",
        "    query = \"SELECT COUNT(DISTINCT ID_driver) FROM Driver;\"\n",
        "    result = execute_sql_query(query)\n",
        "    assert result[0][0] == 30, \"Not all driver IDs are unique\""
      ],
      "metadata": {
        "id": "y7Iu_4vjyQWU"
      },
      "execution_count": 61,
      "outputs": []
    },
    {
      "cell_type": "code",
      "source": [
        "test_table_existence()"
      ],
      "metadata": {
        "id": "qhIMw49vyQOO"
      },
      "execution_count": 54,
      "outputs": []
    },
    {
      "cell_type": "code",
      "source": [
        "test_row_count()"
      ],
      "metadata": {
        "id": "JAsZ8THHL0v0"
      },
      "execution_count": 57,
      "outputs": []
    },
    {
      "cell_type": "code",
      "source": [
        "test_average_bonus()"
      ],
      "metadata": {
        "colab": {
          "base_uri": "https://localhost:8080/",
          "height": 273
        },
        "id": "P-XwV0fCL8Oq",
        "outputId": "c6102334-24b6-40c7-d1db-28be378ab989"
      },
      "execution_count": 58,
      "outputs": [
        {
          "output_type": "error",
          "ename": "AssertionError",
          "evalue": "Average bonus value is incorrect",
          "traceback": [
            "\u001b[0;31m---------------------------------------------------------------------------\u001b[0m",
            "\u001b[0;31mAssertionError\u001b[0m                            Traceback (most recent call last)",
            "\u001b[0;32m<ipython-input-58-edb68fdca8f9>\u001b[0m in \u001b[0;36m<cell line: 1>\u001b[0;34m()\u001b[0m\n\u001b[0;32m----> 1\u001b[0;31m \u001b[0mtest_average_bonus\u001b[0m\u001b[0;34m(\u001b[0m\u001b[0;34m)\u001b[0m\u001b[0;34m\u001b[0m\u001b[0;34m\u001b[0m\u001b[0m\n\u001b[0m",
            "\u001b[0;32m<ipython-input-56-7f68aa80406b>\u001b[0m in \u001b[0;36mtest_average_bonus\u001b[0;34m()\u001b[0m\n\u001b[1;32m     24\u001b[0m     \u001b[0mquery\u001b[0m \u001b[0;34m=\u001b[0m \u001b[0;34m\"SELECT AVG(bonus) FROM Loyalty_card;\"\u001b[0m\u001b[0;34m\u001b[0m\u001b[0;34m\u001b[0m\u001b[0m\n\u001b[1;32m     25\u001b[0m     \u001b[0mresult\u001b[0m \u001b[0;34m=\u001b[0m \u001b[0mexecute_sql_query\u001b[0m\u001b[0;34m(\u001b[0m\u001b[0mquery\u001b[0m\u001b[0;34m)\u001b[0m\u001b[0;34m\u001b[0m\u001b[0;34m\u001b[0m\u001b[0m\n\u001b[0;32m---> 26\u001b[0;31m     \u001b[0;32massert\u001b[0m \u001b[0mresult\u001b[0m\u001b[0;34m[\u001b[0m\u001b[0;36m0\u001b[0m\u001b[0;34m]\u001b[0m\u001b[0;34m[\u001b[0m\u001b[0;36m0\u001b[0m\u001b[0;34m]\u001b[0m \u001b[0;34m==\u001b[0m \u001b[0;36m795\u001b[0m\u001b[0;34m,\u001b[0m \u001b[0;34m\"Average bonus value is incorrect\"\u001b[0m\u001b[0;34m\u001b[0m\u001b[0;34m\u001b[0m\u001b[0m\n\u001b[0m\u001b[1;32m     27\u001b[0m \u001b[0;34m\u001b[0m\u001b[0m\n\u001b[1;32m     28\u001b[0m \u001b[0;31m# Тест для проверки наличия всех столбцов в таблице\u001b[0m\u001b[0;34m\u001b[0m\u001b[0;34m\u001b[0m\u001b[0m\n",
            "\u001b[0;31mAssertionError\u001b[0m: Average bonus value is incorrect"
          ]
        }
      ]
    },
    {
      "cell_type": "code",
      "source": [
        "test_column_existence()"
      ],
      "metadata": {
        "id": "v79yXFcwL_yC"
      },
      "execution_count": 59,
      "outputs": []
    },
    {
      "cell_type": "code",
      "source": [
        "test_unique_driver_ids()"
      ],
      "metadata": {
        "id": "rA0IE0riMBkm"
      },
      "execution_count": 62,
      "outputs": []
    }
  ]
}