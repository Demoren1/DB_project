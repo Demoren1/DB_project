{
  "cells": [
    {
      "cell_type": "code",
      "execution_count": 1,
      "metadata": {
        "colab": {
          "base_uri": "https://localhost:8080/"
        },
        "id": "ykC0VCM9yO1A",
        "outputId": "7bef6ea0-9d15-4a31-8ad9-3bd6d623ccfa"
      },
      "outputs": [
        {
          "name": "stdout",
          "output_type": "stream",
          "text": [
            "Defaulting to user installation because normal site-packages is not writeable\n",
            "Collecting pytest\n",
            "  Downloading pytest-8.1.1-py3-none-any.whl.metadata (7.6 kB)\n",
            "Collecting iniconfig (from pytest)\n",
            "  Downloading iniconfig-2.0.0-py3-none-any.whl.metadata (2.6 kB)\n",
            "Requirement already satisfied: packaging in /home/alexander/.local/lib/python3.12/site-packages (from pytest) (24.0)\n",
            "Collecting pluggy<2.0,>=1.4 (from pytest)\n",
            "  Downloading pluggy-1.4.0-py3-none-any.whl.metadata (4.3 kB)\n",
            "Downloading pytest-8.1.1-py3-none-any.whl (337 kB)\n",
            "\u001b[2K   \u001b[90m━━━━━━━━━━━━━━━━━━━━━━━━━━━━━━━━━━━━━━━\u001b[0m \u001b[32m337.4/337.4 kB\u001b[0m \u001b[31m649.1 kB/s\u001b[0m eta \u001b[36m0:00:00\u001b[0ma \u001b[36m0:00:01\u001b[0m\n",
            "\u001b[?25hDownloading pluggy-1.4.0-py3-none-any.whl (20 kB)\n",
            "Downloading iniconfig-2.0.0-py3-none-any.whl (5.9 kB)\n",
            "Installing collected packages: pluggy, iniconfig, pytest\n",
            "Successfully installed iniconfig-2.0.0 pluggy-1.4.0 pytest-8.1.1\n",
            "Note: you may need to restart the kernel to use updated packages.\n"
          ]
        }
      ],
      "source": [
        "pip install pytest"
      ]
    },
    {
      "cell_type": "code",
      "execution_count": 2,
      "metadata": {
        "id": "b99I_iafGub7"
      },
      "outputs": [],
      "source": [
        "import sqlite3\n",
        "\n",
        "def execute_sql_script(script_file, database_file):\n",
        "    # Подключаемся к базе данных SQLite\n",
        "    conn = sqlite3.connect(database_file)\n",
        "    cursor = conn.cursor()\n",
        "\n",
        "    # Читаем SQL-скрипт из файла\n",
        "    with open(script_file, 'r') as script:\n",
        "        sql_script = script.read()\n",
        "\n",
        "    # Выполняем SQL-скрипт\n",
        "    cursor.executescript(sql_script)\n",
        "    conn.commit()\n",
        "    conn.close()\n",
        "\n",
        "# Путь к файлу SQL-скрипта\n",
        "sql_script_file = 'database.sql'\n",
        "\n",
        "# Путь к файлу базы данных SQLite\n",
        "database_file = 'database.db'\n",
        "\n",
        "# Вызываем функцию для выполнения SQL-скрипта\n",
        "execute_sql_script(sql_script_file, database_file)"
      ]
    },
    {
      "cell_type": "code",
      "execution_count": 3,
      "metadata": {
        "id": "y7Iu_4vjyQWU"
      },
      "outputs": [],
      "source": [
        "import sqlite3\n",
        "def execute_sql_query(query):\n",
        "    conn = sqlite3.connect(\"database.db\")  # Название вашей тестовой базы данных\n",
        "    cursor = conn.cursor()\n",
        "    cursor.execute(query)\n",
        "    result = cursor.fetchall()\n",
        "    conn.close()\n",
        "    return result\n",
        "\n",
        "# Тест для проверки наличия таблицы в базе данных\n",
        "def test_table_existence():\n",
        "    query = \"SELECT name FROM sqlite_master WHERE type='table' AND name='Car';\"\n",
        "    result = execute_sql_query(query)\n",
        "    assert len(result) == 1, \"Table does not exist in the database\"\n",
        "\n",
        "# Тест для проверки количества строк в таблице\n",
        "def test_row_count():\n",
        "    query = \"SELECT COUNT(*) FROM Driver;\"\n",
        "    result = execute_sql_query(query)\n",
        "    assert result[0][0] == 30, \"Row count does not match expected value\"\n",
        "\n",
        "# Тест для проверки среднего значения бонусов по картам лояльности\n",
        "def test_average_bonus():\n",
        "    query = \"SELECT AVG(bonus) FROM Loyalty_card;\"\n",
        "    result = execute_sql_query(query)\n",
        "    assert result[0][0] == 795, \"Average bonus value is incorrect\"\n",
        "\n",
        "# Тест для проверки наличия всех столбцов в таблице\n",
        "def test_column_existence():\n",
        "    query = \"PRAGMA table_info('Driver');\"\n",
        "    result = execute_sql_query(query)\n",
        "    expected_columns = ['ID_driver', 'car_number', 'full_name', 'phone_number', 'basic_fee', 'email', 'start_date', 'end_date', 'version_number', 'is_current']\n",
        "    actual_columns = [row[1] for row in result]\n",
        "    assert set(actual_columns) == set(expected_columns), \"Columns do not match expected columns\"\n",
        "\n",
        "# Тест для проверки того, что все водители имеют уникальные идентификаторы\n",
        "def test_unique_driver_ids():\n",
        "    query = \"SELECT COUNT(DISTINCT ID_driver) FROM Driver;\"\n",
        "    result = execute_sql_query(query)\n",
        "    assert result[0][0] == 30, \"Not all driver IDs are unique\""
      ]
    },
    {
      "cell_type": "code",
      "execution_count": 4,
      "metadata": {
        "id": "qhIMw49vyQOO"
      },
      "outputs": [],
      "source": [
        "test_table_existence()"
      ]
    },
    {
      "cell_type": "code",
      "execution_count": 5,
      "metadata": {
        "id": "JAsZ8THHL0v0"
      },
      "outputs": [],
      "source": [
        "test_row_count()"
      ]
    },
    {
      "cell_type": "code",
      "execution_count": 6,
      "metadata": {
        "colab": {
          "base_uri": "https://localhost:8080/",
          "height": 273
        },
        "id": "P-XwV0fCL8Oq",
        "outputId": "c6102334-24b6-40c7-d1db-28be378ab989"
      },
      "outputs": [
        {
          "ename": "AssertionError",
          "evalue": "Average bonus value is incorrect",
          "output_type": "error",
          "traceback": [
            "\u001b[0;31m---------------------------------------------------------------------------\u001b[0m",
            "\u001b[0;31mAssertionError\u001b[0m                            Traceback (most recent call last)",
            "Cell \u001b[0;32mIn[6], line 1\u001b[0m\n\u001b[0;32m----> 1\u001b[0m \u001b[43mtest_average_bonus\u001b[49m\u001b[43m(\u001b[49m\u001b[43m)\u001b[49m\n",
            "Cell \u001b[0;32mIn[3], line 26\u001b[0m, in \u001b[0;36mtest_average_bonus\u001b[0;34m()\u001b[0m\n\u001b[1;32m     24\u001b[0m query \u001b[38;5;241m=\u001b[39m \u001b[38;5;124m\"\u001b[39m\u001b[38;5;124mSELECT AVG(bonus) FROM Loyalty_card;\u001b[39m\u001b[38;5;124m\"\u001b[39m\n\u001b[1;32m     25\u001b[0m result \u001b[38;5;241m=\u001b[39m execute_sql_query(query)\n\u001b[0;32m---> 26\u001b[0m \u001b[38;5;28;01massert\u001b[39;00m result[\u001b[38;5;241m0\u001b[39m][\u001b[38;5;241m0\u001b[39m] \u001b[38;5;241m==\u001b[39m \u001b[38;5;241m795\u001b[39m, \u001b[38;5;124m\"\u001b[39m\u001b[38;5;124mAverage bonus value is incorrect\u001b[39m\u001b[38;5;124m\"\u001b[39m\n",
            "\u001b[0;31mAssertionError\u001b[0m: Average bonus value is incorrect"
          ]
        }
      ],
      "source": [
        "test_average_bonus()"
      ]
    },
    {
      "cell_type": "code",
      "execution_count": 7,
      "metadata": {
        "id": "v79yXFcwL_yC"
      },
      "outputs": [],
      "source": [
        "test_column_existence()"
      ]
    },
    {
      "cell_type": "code",
      "execution_count": 8,
      "metadata": {
        "id": "rA0IE0riMBkm"
      },
      "outputs": [],
      "source": [
        "test_unique_driver_ids()"
      ]
    }
  ],
  "metadata": {
    "colab": {
      "provenance": []
    },
    "kernelspec": {
      "display_name": "Python 3",
      "name": "python3"
    },
    "language_info": {
      "codemirror_mode": {
        "name": "ipython",
        "version": 3
      },
      "file_extension": ".py",
      "mimetype": "text/x-python",
      "name": "python",
      "nbconvert_exporter": "python",
      "pygments_lexer": "ipython3",
      "version": "3.12.2"
    }
  },
  "nbformat": 4,
  "nbformat_minor": 0
}
